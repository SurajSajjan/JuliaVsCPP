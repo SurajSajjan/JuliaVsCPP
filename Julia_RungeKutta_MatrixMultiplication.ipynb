{
 "cells": [
  {
   "cell_type": "code",
   "execution_count": 2,
   "metadata": {
    "scrolled": true
   },
   "outputs": [
    {
     "name": "stdout",
     "output_type": "stream",
     "text": [
      "  0.000010 seconds (9 allocations: 704 bytes)\n",
      "elapsed time (ns): 9701\n",
      "bytes allocated:   704\n",
      "pool allocs:       9\n"
     ]
    },
    {
     "data": {
      "text/plain": [
       "3×3 Array{Int64,2}:\n",
       "  6448  1701  3564\n",
       " 15736  5461  8482\n",
       " 11624  4786  8374"
      ]
     },
     "execution_count": 2,
     "metadata": {},
     "output_type": "execute_result"
    }
   ],
   "source": [
    "#Code for Matrix elements addition and multiplication with another matrix\n",
    "using LinearAlgebra\n",
    "@timev begin\n",
    "Arr1 = rand(0:99, 3, 3)\n",
    "Arr2 = rand(0:99, 3, 3)\n",
    "Arr1_sum = sum(Arr1)\n",
    "Arr1_dsum = tr(Arr1)\n",
    "Arr3 = Arr1 * Arr2\n",
    "end"
   ]
  },
  {
   "cell_type": "code",
   "execution_count": 3,
   "metadata": {},
   "outputs": [
    {
     "name": "stdout",
     "output_type": "stream",
     "text": [
      "The value of y at x is: 1.053668714383911\n",
      "  0.147905 seconds (593.31 k allocations: 29.890 MiB, 3.01% gc time)\n",
      "elapsed time (ns): 147905101\n",
      "gc time (ns):      4458600\n",
      "bytes allocated:   31341757\n",
      "pool allocs:       593214\n",
      "non-pool GC allocs:92\n",
      "GC pauses:         1\n"
     ]
    }
   ],
   "source": [
    "#Code for 4th order Runge-Kutta\n",
    "# A sample differential equation \"dy / dx = (x - y)/3\" \n",
    "@timev begin\n",
    "function dydx(x, y)\n",
    "    return ((x - y)/3) \n",
    "end\n",
    "  \n",
    "function rungeKutta(x0, y0, x, h)\n",
    "    n = floor((x - x0)/h)  \n",
    "    y = y0 \n",
    "    for i in 1:n\n",
    "        k1 = h * dydx(x0, y) \n",
    "        k2 = h * dydx(x0 + 0.5h, y + 0.5k1) \n",
    "        k3 = h * dydx(x0 + 0.5h, y + 0.5k2) \n",
    "        k4 = h * dydx(x0 + h, y + k3) \n",
    "  \n",
    "        # Update next value of y \n",
    "        y = y + (k1 + 2k2 + 2k3 + k4)/6 \n",
    "  \n",
    "        # Update next value of x \n",
    "        x0 = x0 + h \n",
    "            end       \n",
    "    return y \n",
    "    end\n",
    "  \n",
    "# Driver method \n",
    "x0 = 0.0\n",
    "y = 1.0\n",
    "x = 2.0\n",
    "h = 0.2\n",
    "println(\"The value of y at x is: \",rungeKutta(x0, y, x, h)) \n",
    "    end"
   ]
  }
 ],
 "metadata": {
  "kernelspec": {
   "display_name": "Julia 1.1.1",
   "language": "julia",
   "name": "julia-1.1"
  },
  "language_info": {
   "file_extension": ".jl",
   "mimetype": "application/julia",
   "name": "julia",
   "version": "1.1.1"
  }
 },
 "nbformat": 4,
 "nbformat_minor": 2
}
